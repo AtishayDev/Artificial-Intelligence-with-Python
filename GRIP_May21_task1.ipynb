{
  "nbformat": 4,
  "nbformat_minor": 0,
  "metadata": {
    "colab": {
      "name": "GRIP_May21_task1.ipynb",
      "provenance": [],
      "collapsed_sections": [],
      "authorship_tag": "ABX9TyO0WaOYx64Eb/1WYseaRgqE",
      "include_colab_link": true
    },
    "kernelspec": {
      "name": "python3",
      "display_name": "Python 3"
    },
    "language_info": {
      "name": "python"
    }
  },
  "cells": [
    {
      "cell_type": "markdown",
      "metadata": {
        "id": "view-in-github",
        "colab_type": "text"
      },
      "source": [
        "<a href=\"https://colab.research.google.com/github/AtishayDev/Artificial-Intelligence-with-Python/blob/master/GRIP_May21_task1.ipynb\" target=\"_parent\"><img src=\"https://colab.research.google.com/assets/colab-badge.svg\" alt=\"Open In Colab\"/></a>"
      ]
    },
    {
      "cell_type": "code",
      "metadata": {
        "id": "No8qhi9lj0TC"
      },
      "source": [
        "# Data Science & Business Analytics Tasks\n",
        "# Task 1: Prediction using Supervised ML \n",
        "# Task Outcome: Predict the percentage of an student based on the no. of study hours.\n",
        "# Author: Atishay Tiwari\n"
      ],
      "execution_count": 2,
      "outputs": []
    },
    {
      "cell_type": "code",
      "metadata": {
        "id": "hTDE8YCilWBC"
      },
      "source": [
        "# Importing required Libraries\n",
        "import numpy as np\n",
        "import pandas as pd\n",
        "import matplotlib.pyplot as plt"
      ],
      "execution_count": 3,
      "outputs": []
    },
    {
      "cell_type": "code",
      "metadata": {
        "colab": {
          "base_uri": "https://localhost:8080/",
          "height": 194
        },
        "id": "bPDhzZwllvxJ",
        "outputId": "57d4de0c-75ab-4f82-b173-c3f541ff0e66"
      },
      "source": [
        "# Reading the dataset\n",
        "data = pd.read_csv('student_scores.csv')\n",
        "data.head()"
      ],
      "execution_count": 4,
      "outputs": [
        {
          "output_type": "execute_result",
          "data": {
            "text/html": [
              "<div>\n",
              "<style scoped>\n",
              "    .dataframe tbody tr th:only-of-type {\n",
              "        vertical-align: middle;\n",
              "    }\n",
              "\n",
              "    .dataframe tbody tr th {\n",
              "        vertical-align: top;\n",
              "    }\n",
              "\n",
              "    .dataframe thead th {\n",
              "        text-align: right;\n",
              "    }\n",
              "</style>\n",
              "<table border=\"1\" class=\"dataframe\">\n",
              "  <thead>\n",
              "    <tr style=\"text-align: right;\">\n",
              "      <th></th>\n",
              "      <th>Hours</th>\n",
              "      <th>Scores</th>\n",
              "    </tr>\n",
              "  </thead>\n",
              "  <tbody>\n",
              "    <tr>\n",
              "      <th>0</th>\n",
              "      <td>2.5</td>\n",
              "      <td>21</td>\n",
              "    </tr>\n",
              "    <tr>\n",
              "      <th>1</th>\n",
              "      <td>5.1</td>\n",
              "      <td>47</td>\n",
              "    </tr>\n",
              "    <tr>\n",
              "      <th>2</th>\n",
              "      <td>3.2</td>\n",
              "      <td>27</td>\n",
              "    </tr>\n",
              "    <tr>\n",
              "      <th>3</th>\n",
              "      <td>8.5</td>\n",
              "      <td>75</td>\n",
              "    </tr>\n",
              "    <tr>\n",
              "      <th>4</th>\n",
              "      <td>3.5</td>\n",
              "      <td>30</td>\n",
              "    </tr>\n",
              "  </tbody>\n",
              "</table>\n",
              "</div>"
            ],
            "text/plain": [
              "   Hours  Scores\n",
              "0    2.5      21\n",
              "1    5.1      47\n",
              "2    3.2      27\n",
              "3    8.5      75\n",
              "4    3.5      30"
            ]
          },
          "metadata": {
            "tags": []
          },
          "execution_count": 4
        }
      ]
    },
    {
      "cell_type": "code",
      "metadata": {
        "colab": {
          "base_uri": "https://localhost:8080/",
          "height": 295
        },
        "id": "Fv414XM_mvCx",
        "outputId": "dc765bc2-0be8-4f34-bd1e-c83e69976caf"
      },
      "source": [
        "# plotting the graph between Hours and Scores\n",
        "data.plot(x='Hours', y='Scores', style='*', color='Red')\n",
        "plt.title('Hours studied vs Marks scored')\n",
        "plt.xlabel('Hours Studied')\n",
        "plt.ylabel('Marks Scored')\n",
        "plt.show()"
      ],
      "execution_count": 17,
      "outputs": [
        {
          "output_type": "display_data",
          "data": {
            "image/png": "[encoded data removed]",
            "text/plain": [
              "<Figure size 432x288 with 1 Axes>"
            ]
          },
          "metadata": {
            "tags": [],
            "needs_background": "light"
          }
        }
      ]
    },
    {
      "cell_type": "code",
      "metadata": {
        "id": "AKE4UT5_l-MS"
      },
      "source": [
        "# Defining x and y components for the linear regression\n",
        "x = data.iloc[:,:-1];\n",
        "y = data.iloc[:,1];"
      ],
      "execution_count": 18,
      "outputs": []
    },
    {
      "cell_type": "code",
      "metadata": {
        "id": "17zNaqDfpJ6p"
      },
      "source": [
        "#spliting data into training set and test set\n",
        "from sklearn.model_selection import train_test_split\n",
        "x_train, x_test, y_train, y_test = train_test_split(x, y, test_size = 0.25, random_state=0)"
      ],
      "execution_count": 53,
      "outputs": []
    },
    {
      "cell_type": "code",
      "metadata": {
        "colab": {
          "base_uri": "https://localhost:8080/"
        },
        "id": "kWXdU4OcorsS",
        "outputId": "4949f772-e4a4-48cd-8e61-fc07ec445b58"
      },
      "source": [
        "# training the model\n",
        "from sklearn.linear_model import LinearRegression\n",
        "regression_model = LinearRegression()\n",
        "regression_model.fit(x_train, y_train)"
      ],
      "execution_count": 54,
      "outputs": [
        {
          "output_type": "execute_result",
          "data": {
            "text/plain": [
              "LinearRegression(copy_X=True, fit_intercept=True, n_jobs=None, normalize=False)"
            ]
          },
          "metadata": {
            "tags": []
          },
          "execution_count": 54
        }
      ]
    },
    {
      "cell_type": "code",
      "metadata": {
        "colab": {
          "base_uri": "https://localhost:8080/",
          "height": 265
        },
        "id": "-Iqv9EHQp4y5",
        "outputId": "c43eb21f-23ac-48ea-f096-1d322e4fbee4"
      },
      "source": [
        "# plotting regression line\n",
        "reg_line = (regression_model.coef_)*x + regression_model.intercept_\n",
        "plt.scatter(x,y)\n",
        "plt.plot(x, reg_line, color='Orange')\n",
        "plt.show()"
      ],
      "execution_count": 55,
      "outputs": [
        {
          "output_type": "display_data",
          "data": {
            "image/png": "[encoded data removed]",
            "text/plain": [
              "<Figure size 432x288 with 1 Axes>"
            ]
          },
          "metadata": {
            "tags": [],
            "needs_background": "light"
          }
        }
      ]
    },
    {
      "cell_type": "code",
      "metadata": {
        "id": "VhgOjP4TqndC"
      },
      "source": [
        "# predicting output from x_test\n",
        "y_pred = regression_model.predict(x_test)"
      ],
      "execution_count": 56,
      "outputs": []
    },
    {
      "cell_type": "code",
      "metadata": {
        "colab": {
          "base_uri": "https://localhost:8080/"
        },
        "id": "cd-BLYgprZyp",
        "outputId": "6762de18-6012-40a7-e1f7-76b4927ce991"
      },
      "source": [
        "# testing with the data given\n",
        "test = np.array([9.25])\n",
        "test = test.reshape(-1,1)\n",
        "y_out = regression_model.predict(test)\n",
        "print('Marks scored after 9.25 hrs of studies is: ', y_out)\n"
      ],
      "execution_count": 57,
      "outputs": [
        {
          "output_type": "stream",
          "text": [
            "Marks scored after 9.25 hrs of studies is:  [93.89272889]\n"
          ],
          "name": "stdout"
        }
      ]
    },
    {
      "cell_type": "code",
      "metadata": {
        "colab": {
          "base_uri": "https://localhost:8080/"
        },
        "id": "NF7uzPlFs_Jp",
        "outputId": "fbeb4f08-e431-4150-ccc3-26d71bc16a93"
      },
      "source": [
        "# Evaluating the model\n",
        "from sklearn import metrics\n",
        "print('Mean Absolute Error: ', metrics.mean_absolute_error(y_test, y_pred))"
      ],
      "execution_count": 58,
      "outputs": [
        {
          "output_type": "stream",
          "text": [
            "Mean Absolute Error:  4.130879918502482\n"
          ],
          "name": "stdout"
        }
      ]
    },
    {
      "cell_type": "markdown",
      "metadata": {
        "id": "3ZEmsRi8uH8o"
      },
      "source": [
        "Therefore according to the model trained, the student will score 93.89% if he/she will study for 9.25 hours daily."
      ]
    }
  ]
}